{
 "cells": [
  {
   "cell_type": "code",
   "execution_count": 75,
   "metadata": {},
   "outputs": [],
   "source": [
    "import os\n",
    "import json\n",
    "from gensim \n",
    "import matplotlib.pyplot as plt\n",
    "from sklearn.decomposition import PCA\n",
    "import random\n",
    "import numpy as np\n",
    "\n",
    "def load_tags(table_fname):\n",
    "    content = None\n",
    "    with open(table_fname, encoding='utf-8') as f:\n",
    "        content = json.load(f)\n",
    "    return content\n",
    "\n",
    "def remove_tags(text, flags):\n",
    "    for k, v in flags.items():\n",
    "        text = text.replace(k, v)\n",
    "    return text\n",
    "\n",
    "def load_text(file_list):\n",
    "    contents = []\n",
    "    for fname in file_list:\n",
    "        with open('texts/' + fname) as f:\n",
    "            text = f.read()\n",
    "            contents.append(text)\n",
    "    return contents"
   ]
  },
  {
   "cell_type": "code",
   "execution_count": 76,
   "metadata": {},
   "outputs": [],
   "source": [
    "file_list = os.listdir('texts')\n",
    "contents = load_text(file_list)\n",
    "flags = load_tags('table.tbl.json')\n",
    "for i in range(len(contents)):\n",
    "    contents[i] = remove_tags(contents[i], flags)\n",
    "    contents[i] = gensim.utils.simple_preprocess(contents[i])"
   ]
  },
  {
   "cell_type": "code",
   "execution_count": 89,
   "metadata": {},
   "outputs": [
    {
     "data": {
      "text/plain": [
       "(1185000, 1570790)"
      ]
     },
     "execution_count": 89,
     "metadata": {},
     "output_type": "execute_result"
    }
   ],
   "source": [
    "# build vocabulary and train model\n",
    "    model = gensim.models.Word2Vec(\n",
    "        contents,\n",
    "        size=100,\n",
    "        window=10,\n",
    "        min_count=3,\n",
    "        workers=10)\n",
    "    model.train(contents, total_examples=len(contents), epochs=10)"
   ]
  },
  {
   "cell_type": "code",
   "execution_count": 90,
   "metadata": {},
   "outputs": [
    {
     "name": "stderr",
     "output_type": "stream",
     "text": [
      "c:\\users\\ignit\\appdata\\local\\programs\\python\\python36\\lib\\site-packages\\ipykernel_launcher.py:1: DeprecationWarning: Call to deprecated `__getitem__` (Method will be removed in 4.0.0, use self.wv.__getitem__() instead).\n",
      "  \"\"\"Entry point for launching an IPython kernel.\n"
     ]
    }
   ],
   "source": [
    "X = model[model.wv.vocab]"
   ]
  },
  {
   "cell_type": "code",
   "execution_count": 91,
   "metadata": {},
   "outputs": [],
   "source": [
    "pca = PCA(n_components=2)\n",
    "result = pca.fit_transform(X)"
   ]
  },
  {
   "cell_type": "code",
   "execution_count": 92,
   "metadata": {},
   "outputs": [
    {
     "data": {
      "image/png": "[encoded data removed]",
      "text/plain": [
       "<Figure size 432x288 with 1 Axes>"
      ]
     },
     "metadata": {
      "needs_background": "light"
     },
     "output_type": "display_data"
    }
   ],
   "source": [
    "choices = random.sample(list(range(len(result))), 50)\n",
    "\n",
    "plt.scatter(result[choices, 0], result[choices, 1])\n",
    "words = list(model.wv.vocab)\n",
    "for i in choices:\n",
    "    plt.annotate(words[i], xy=(result[i, 0], result[i, 1]))\n",
    "plt.show()"
   ]
  },
  {
   "cell_type": "code",
   "execution_count": 100,
   "metadata": {
    "scrolled": true
   },
   "outputs": [
    {
     "data": {
      "text/plain": [
       "[('summoning', 0.8596299290657043),\n",
       " ('yunalesca', 0.8240699172019958),\n",
       " ('truly', 0.771030068397522),\n",
       " ('die', 0.7497608661651611),\n",
       " ('reborn', 0.7454723119735718),\n",
       " ('death', 0.7434200048446655),\n",
       " ('final', 0.7162397503852844),\n",
       " ('fayth', 0.7110801339149475),\n",
       " ('sorrow', 0.7054100036621094),\n",
       " ('dead', 0.7018811106681824)]"
      ]
     },
     "execution_count": 100,
     "metadata": {},
     "output_type": "execute_result"
    }
   ],
   "source": [
    "w1 = 'aeon'\n",
    "model.wv.most_similar(positive=w1, topn=10)"
   ]
  },
  {
   "cell_type": "raw",
   "metadata": {},
   "source": []
  }
 ],
 "metadata": {
  "kernelspec": {
   "display_name": "Python 3",
   "language": "python",
   "name": "python3"
  },
  "language_info": {
   "codemirror_mode": {
    "name": "ipython",
    "version": 3
   },
   "file_extension": ".py",
   "mimetype": "text/x-python",
   "name": "python",
   "nbconvert_exporter": "python",
   "pygments_lexer": "ipython3",
   "version": "3.6.7"
  }
 },
 "nbformat": 4,
 "nbformat_minor": 2
}
